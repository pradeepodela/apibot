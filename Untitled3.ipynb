{
 "cells": [
  {
   "cell_type": "code",
   "execution_count": 1,
   "id": "5d14ade2",
   "metadata": {},
   "outputs": [],
   "source": [
    "import psycopg2"
   ]
  },
  {
   "cell_type": "code",
   "execution_count": 2,
   "id": "93b87db7",
   "metadata": {},
   "outputs": [],
   "source": [
    "conn = psycopg2.connect(\"dbname=d4hiv5ll8jk7h6 user=ygivljcqkydikr password=4ec9b87b3cc3a223984a969e39418ab541de0f61933b237a43818bc796f2f45b port=5432 host=ec2-52-208-164-5.eu-west-1.compute.amazonaws.com\")"
   ]
  },
  {
   "cell_type": "code",
   "execution_count": 3,
   "id": "07cadd0e",
   "metadata": {},
   "outputs": [],
   "source": [
    "cursor = conn.cursor()"
   ]
  },
  {
   "cell_type": "code",
   "execution_count": 4,
   "id": "b98265a6",
   "metadata": {},
   "outputs": [],
   "source": [
    "creattable = '''CREATE TABLE Leadsinfo (\n",
    "                                    uid  serial not null primary key,\n",
    "                                    created_date date not null default current_date ,\n",
    "                                    name varchar(255),\n",
    "                                    email varchar(255),\n",
    "                                    phno varchar(255),\n",
    "                                    service varchar(255),  \n",
    "                                    url varchar(255));'''"
   ]
  },
  {
   "cell_type": "code",
   "execution_count": 5,
   "id": "ab7b1ad0",
   "metadata": {},
   "outputs": [],
   "source": [
    "#cursor.execute(creattable)"
   ]
  },
  {
   "cell_type": "code",
   "execution_count": 6,
   "id": "82a75e12",
   "metadata": {},
   "outputs": [],
   "source": [
    "qr2 = ''' CREATE TABLE note(\n",
    "    note_id serial PRIMARY KEY,\n",
    "    message varchar(255) NOT NULL,\n",
    "    created_at TIMESTAMP WITH TIME ZONE DEFAULT CURRENT_TIMESTAMP\n",
    "); '''"
   ]
  },
  {
   "cell_type": "code",
   "execution_count": 7,
   "id": "e30056cb",
   "metadata": {},
   "outputs": [],
   "source": [
    "#cursor.execute(qr2)"
   ]
  },
  {
   "cell_type": "code",
   "execution_count": 8,
   "id": "4bf6a550",
   "metadata": {},
   "outputs": [],
   "source": [
    "#Drop table note;"
   ]
  },
  {
   "cell_type": "code",
   "execution_count": 9,
   "id": "d7989e0c",
   "metadata": {},
   "outputs": [],
   "source": [
    "#deletingtable = ''' Drop table notec; '''"
   ]
  },
  {
   "cell_type": "code",
   "execution_count": 10,
   "id": "66314faf",
   "metadata": {},
   "outputs": [],
   "source": [
    "#cursor.execute(deletingtable)"
   ]
  },
  {
   "cell_type": "code",
   "execution_count": 11,
   "id": "5f506465",
   "metadata": {},
   "outputs": [],
   "source": [
    "updatingdat = ''' \n",
    "INSERT INTO note(message) \n",
    "VALUES('Testing current_timestamp function');\n",
    "\n",
    "'''"
   ]
  },
  {
   "cell_type": "code",
   "execution_count": 12,
   "id": "1f1e0a19",
   "metadata": {},
   "outputs": [
    {
     "ename": "UndefinedTable",
     "evalue": "relation \"note\" does not exist\nLINE 2: INSERT INTO note(message) \n                    ^\n",
     "output_type": "error",
     "traceback": [
      "\u001b[1;31m---------------------------------------------------------------------------\u001b[0m",
      "\u001b[1;31mUndefinedTable\u001b[0m                            Traceback (most recent call last)",
      "Input \u001b[1;32mIn [12]\u001b[0m, in \u001b[0;36m<cell line: 1>\u001b[1;34m()\u001b[0m\n\u001b[1;32m----> 1\u001b[0m \u001b[43mcursor\u001b[49m\u001b[38;5;241;43m.\u001b[39;49m\u001b[43mexecute\u001b[49m\u001b[43m(\u001b[49m\u001b[43mupdatingdat\u001b[49m\u001b[43m)\u001b[49m\n",
      "\u001b[1;31mUndefinedTable\u001b[0m: relation \"note\" does not exist\nLINE 2: INSERT INTO note(message) \n                    ^\n"
     ]
    }
   ],
   "source": [
    "cursor.execute(updatingdat)"
   ]
  },
  {
   "cell_type": "code",
   "execution_count": null,
   "id": "959016e4",
   "metadata": {},
   "outputs": [],
   "source": []
  }
 ],
 "metadata": {
  "kernelspec": {
   "display_name": "Python 3",
   "language": "python",
   "name": "python3"
  },
  "language_info": {
   "codemirror_mode": {
    "name": "ipython",
    "version": 3
   },
   "file_extension": ".py",
   "mimetype": "text/x-python",
   "name": "python",
   "nbconvert_exporter": "python",
   "pygments_lexer": "ipython3",
   "version": "3.8.8"
  }
 },
 "nbformat": 4,
 "nbformat_minor": 5
}
